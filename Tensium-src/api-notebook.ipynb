{
 "cells": [
  {
   "cell_type": "markdown",
   "metadata": {},
   "source": [
    "# Tensium API Walker\n",
    "\n",
    "Tensium API Walker allows Automation Engineers to build complex yet easily maintanable automated API tests.\n",
    "\n",
    "This library makes it easy to quickly write automated API tests which require little to no maintenance (when using forward-feeding).\n",
    "\n",
    "## How it works\n",
    "\n",
    "Given a list of endpoints, and their possible inputs, Tensium will figure out how to exeute an API endpoint.\n",
    "\n",
    "When chaining API calls, Tensium will forward feed the possible values to the next endpoint in the chain.\n",
    "\n",
    "#### I.E\n",
    "\n",
    "> We have two endpoints.\n",
    "\n",
    "1. Get Weather Forecasts (Monday-Friday)\n",
    "2. Update Weather Forecast (For any one given day)\n",
    "\n",
    "> Tensium will step through both endpoints.\n",
    ">\n",
    "> Step 2 requires a body object containing forecast information.\n",
    ">\n",
    "> At step 1, possible values are forwarded to step 2 for endpoint execution."
   ]
  },
  {
   "cell_type": "markdown",
   "metadata": {},
   "source": [
    "# Dependencies"
   ]
  },
  {
   "cell_type": "code",
   "execution_count": null,
   "metadata": {},
   "outputs": [],
   "source": [
    "import Tensium\n",
    "\n",
    "from Tensium.api_management.TensiumEndpoint import TensiumEndpoint\n",
    "from Tensium.api_management.TensiumAPIWalker import TensiumAPIWalker"
   ]
  },
  {
   "cell_type": "markdown",
   "metadata": {},
   "source": [
    "# Get Weather Forecasts\n",
    "\n",
    "First, let's take a look at a simple HTTP GET request in Tensium."
   ]
  },
  {
   "cell_type": "code",
   "execution_count": null,
   "metadata": {},
   "outputs": [],
   "source": [
    "forecasts = TensiumEndpoint(url='http://localhost:5120/weatherforecast',\n",
    "                            possible_inputs=None, method='GET', regression=None)"
   ]
  },
  {
   "cell_type": "markdown",
   "metadata": {},
   "source": [
    "# Update Weather Forecast\n",
    "\n",
    "Now, try something a little more complex in nature.\n",
    "\n",
    "Below, we will setup forward-fed HTTP POST request which will take inputs from the GET request we made earlier.\n",
    "\n",
    "Let's start with setting up possible inputs."
   ]
  },
  {
   "cell_type": "markdown",
   "metadata": {},
   "source": [
    "# Possible Inputs\n",
    "\n",
    "When specifying the possible inputs to an endpoint, you can either explicitly define these inputs, or you can have them forward-feed to your endpoint.\n",
    "\n",
    "\n",
    "### Forward Feeding\n",
    "Forward-feeding can be achieved by setting a wildcard ($) in the allowed_values option.\n",
    "\n",
    "### Explicitly Defining\n",
    "Simple specify a list of possible inputs"
   ]
  },
  {
   "cell_type": "code",
   "execution_count": null,
   "metadata": {},
   "outputs": [],
   "source": [
    "possible_inputs = {\n",
    "    'temperatureC': {\n",
    "        'allowed_values': '$'\n",
    "    },\n",
    "    'summary': {\n",
    "        'allowed_values': ['Hot Summer Day', 'Cold Summer Day']\n",
    "    },\n",
    "    'id': {\n",
    "        'allowed_values': '$'\n",
    "    },\n",
    "    'date': {\n",
    "        'allowed_values': '$'\n",
    "    }\n",
    "}"
   ]
  },
  {
   "cell_type": "markdown",
   "metadata": {},
   "source": [
    "# Regression\n",
    "\n",
    "Next, let's setup some simple regression testing.\n",
    "\n",
    "With regression, we can validate that our endpoint had some effect on the previous endpoint.\n",
    "\n",
    "For instance, when updating a forecast, our fetch endpoint should return a matching object to what was updated. (IE: new temperature, updated summary)"
   ]
  },
  {
   "cell_type": "code",
   "execution_count": null,
   "metadata": {},
   "outputs": [],
   "source": [
    "# Do regression testing on fields 'temperatureC', 'date'\n",
    "\n",
    "update_forecast_regression = {\n",
    "    'inputs': ['temperatureC', 'date'],\n",
    "    'input_key': 'id'\n",
    "}"
   ]
  },
  {
   "cell_type": "markdown",
   "metadata": {},
   "source": [
    "# Create Update Forecast Input\n",
    "\n",
    "Let's create the update endpoint."
   ]
  },
  {
   "cell_type": "code",
   "execution_count": null,
   "metadata": {},
   "outputs": [],
   "source": [
    "update_forecast = TensiumEndpoint(url='http://localhost:5120/weatherforecast',\n",
    "                                  possible_inputs=possible_inputs, method='POST', regression=update_forecast_regression)\n"
   ]
  },
  {
   "cell_type": "markdown",
   "metadata": {},
   "source": [
    "# Walk the chain\n",
    "\n",
    "Here is where the core functionality takes place.\n",
    "\n",
    "Walk the chain, execute endpoints."
   ]
  },
  {
   "cell_type": "code",
   "execution_count": null,
   "metadata": {},
   "outputs": [],
   "source": [
    "tensium_walker = TensiumAPIWalker().walk_chain([forecasts, update_forecast])"
   ]
  },
  {
   "cell_type": "code",
   "execution_count": null,
   "metadata": {},
   "outputs": [],
   "source": [
    "tensium_walker"
   ]
  },
  {
   "cell_type": "markdown",
   "metadata": {},
   "source": [
    "\n",
    "\n",
    "1. Fetch HTTP [GET] http://localhost:5120/weatherforecast\n",
    "    1. Return list({WeatherForecast})\n",
    "    2. Forward feed random object list({WeatherForecast}) -> Update Forecast Endpoint\n",
    "2. Update Forecast HTTP [POST] http://localhost:5120/weatherforecast\n",
    "    1. As body, send forward-fed {WeatherForecast}\n"
   ]
  }
 ],
 "metadata": {
  "interpreter": {
   "hash": "f3fb129a5bc614a4ddbaa85ce1fb3fcb14b756c15916d3431c3b79fc78b21b72"
  },
  "kernelspec": {
   "display_name": "Python 3.8.0 64-bit",
   "language": "python",
   "name": "python3"
  },
  "language_info": {
   "codemirror_mode": {
    "name": "ipython",
    "version": 3
   },
   "file_extension": ".py",
   "mimetype": "text/x-python",
   "name": "python",
   "nbconvert_exporter": "python",
   "pygments_lexer": "ipython3",
   "version": "3.8.0"
  },
  "orig_nbformat": 4
 },
 "nbformat": 4,
 "nbformat_minor": 2
}
