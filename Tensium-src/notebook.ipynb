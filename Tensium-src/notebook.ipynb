{
 "cells": [
  {
   "cell_type": "markdown",
   "metadata": {},
   "source": [
    "# Overview\n",
    "\n",
    "This notebooks serves the purpose of walking through the setup of a 'TestCase'.\n",
    "\n",
    "Simply put, a 'TestCase' in this context is simple a set of possible actions, and an expected goal which the agent should achieve.\n",
    "\n",
    "> IE: Username-Field, Password-Field, Login-Button => Successful Login"
   ]
  },
  {
   "cell_type": "markdown",
   "metadata": {},
   "source": [
    "# Packages"
   ]
  },
  {
   "cell_type": "code",
   "execution_count": null,
   "metadata": {},
   "outputs": [],
   "source": [
    "!pip install scikit-image tensorflow keras flatdict tensorflow_hub numpy pandas matplotlib gym"
   ]
  },
  {
   "cell_type": "markdown",
   "metadata": {},
   "source": [
    "# Dependencies\n",
    "\n",
    "Import the required dependencies"
   ]
  },
  {
   "cell_type": "code",
   "execution_count": null,
   "metadata": {},
   "outputs": [],
   "source": [
    "import random\n",
    "import os\n",
    "\n",
    "from selenium.webdriver import Chrome\n",
    "\n",
    "from Tensium.commands.SeleniumSetTextCommand import SeleniumSetTextCommand\n",
    "from Tensium.commands.SeleniumClickCommand import SeleniumClickCommand\n",
    "\n",
    "from Tensium.goals.TensiumTextEqualsGoal import TensiumTextEqualsGoal\n",
    "from Tensium.TestCase import TestCase"
   ]
  },
  {
   "cell_type": "markdown",
   "metadata": {},
   "source": [
    "# Possible Actions\n",
    "\n",
    "An action is simply a Selenium command which is part of a sequence to achieve a specified goal.\n",
    "\n",
    "For instance, most websites will have a login. As an Automation Engineer, your task to to validate login is successful given 3 possible actions:\n",
    "\n",
    "1. Enter Username\n",
    "2. Enter Password\n",
    "3. Click Login Button\n",
    "\n",
    ">  The agent doesn't require the order in which actions are executed, it does need some context as to what actions can possibly happen given a scenario."
   ]
  },
  {
   "cell_type": "code",
   "execution_count": null,
   "metadata": {},
   "outputs": [],
   "source": [
    "actions = [SeleniumSetTextCommand('#user-name', 'standard_user'),\n",
    "           SeleniumSetTextCommand('#password', 'secret_sauce'),\n",
    "           SeleniumClickCommand('#login-button')]"
   ]
  },
  {
   "cell_type": "markdown",
   "metadata": {},
   "source": [
    "# Goal\n",
    "\n",
    "A goal is simply some condition which must happen.\n",
    "\n",
    "For instance, you may have a goal set to detect that the user has logged in.\n",
    "\n",
    "> The goal below checks for a `.title` element (Which in this context, we know only appears after being logged in.)"
   ]
  },
  {
   "cell_type": "code",
   "execution_count": null,
   "metadata": {},
   "outputs": [],
   "source": [
    "# Ignore case sensitivity\n",
    "config = {\n",
    "    'lower': 'true'\n",
    "}\n",
    "\n",
    "logged_in_goal = TensiumTextEqualsGoal(\n",
    "    element_selector=\".title\", value_selector='PRODUCTS', config=config)"
   ]
  },
  {
   "cell_type": "markdown",
   "metadata": {},
   "source": [
    "# Create the TestCase\n",
    "\n",
    "Pass on actions and goal to TestCase object.\n",
    "\n",
    "Note: *Your path may be different. Validate path before proceeding!*"
   ]
  },
  {
   "cell_type": "code",
   "execution_count": null,
   "metadata": {},
   "outputs": [],
   "source": [
    "def _reset_env(env):\n",
    "    env.driver_wrapper.driver.get('https://saucedemo.com/')\n",
    "\n",
    "login_test_case = TestCase('myfirst_testcase', actions, logged_in_goal, \n",
    "    os.getcwd()+'\\\\Tensium-src\\\\', _reset_env)"
   ]
  },
  {
   "cell_type": "markdown",
   "metadata": {},
   "source": [
    "# Learn the environment\n",
    "\n",
    "Learn how to navigate the environment"
   ]
  },
  {
   "cell_type": "code",
   "execution_count": null,
   "metadata": {},
   "outputs": [],
   "source": [
    "login_test_case.Learn()\n"
   ]
  },
  {
   "cell_type": "markdown",
   "metadata": {},
   "source": [
    "# Run environment\n",
    "\n",
    "Navigate the environment using what we have learned."
   ]
  },
  {
   "cell_type": "code",
   "execution_count": null,
   "metadata": {},
   "outputs": [],
   "source": [
    "login_test_case.Run()\n",
    "login_test_case.Finish()"
   ]
  }
 ],
 "metadata": {
  "interpreter": {
   "hash": "f3fb129a5bc614a4ddbaa85ce1fb3fcb14b756c15916d3431c3b79fc78b21b72"
  },
  "kernelspec": {
   "display_name": "Python 3.8.0 64-bit",
   "language": "python",
   "name": "python3"
  },
  "language_info": {
   "codemirror_mode": {
    "name": "ipython",
    "version": 3
   },
   "file_extension": ".py",
   "mimetype": "text/x-python",
   "name": "python",
   "nbconvert_exporter": "python",
   "pygments_lexer": "ipython3",
   "version": "3.8.0"
  },
  "orig_nbformat": 4
 },
 "nbformat": 4,
 "nbformat_minor": 2
}
