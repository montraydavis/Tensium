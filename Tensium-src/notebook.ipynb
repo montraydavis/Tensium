{
 "cells": [
  {
   "cell_type": "markdown",
   "metadata": {},
   "source": [
    "# Dependencies"
   ]
  },
  {
   "cell_type": "code",
   "execution_count": 1,
   "metadata": {},
   "outputs": [],
   "source": [
    "import os\n",
    "import random\n",
    "\n",
    "from selenium.webdriver import Chrome\n",
    "from matplotlib import pyplot as plt\n",
    "\n",
    "from stable_baselines3 import PPO\n",
    "from stable_baselines3.common.env_checker import check_env\n",
    "from stable_baselines3.common.vec_env.dummy_vec_env import DummyVecEnv\n",
    "from stable_baselines3.common.vec_env.vec_frame_stack import VecFrameStack\n",
    "\n",
    "from Tensium.TensiumEnv import TensiumEnv\n",
    "\n",
    "from Tensium.TrainAndLoggingCallback import TrainAndLoggingCallback\n",
    "\n",
    "from Tensium.commands.SeleniumSetTextCommand import SeleniumSetTextCommand\n",
    "from Tensium.commands.SeleniumClickCommand import SeleniumClickCommand\n",
    "\n",
    "from Tensium.goals.TensiumTextEqualsGoal import TensiumTextEqualsGoal\n",
    "\n",
    "def discount_error_login(driver: Chrome) -> bool:\n",
    "    try:\n",
    "        error_dialog = driver.find_element_by_css_selector(\n",
    "            \".error-message-container\")\n",
    "\n",
    "        if error_dialog.text != '':\n",
    "            return True\n",
    "    except:\n",
    "        return False\n",
    "\n",
    "    return False\n"
   ]
  },
  {
   "cell_type": "markdown",
   "metadata": {},
   "source": [
    "# Directories\n",
    "\n",
    "Directories for logging and saving model"
   ]
  },
  {
   "cell_type": "code",
   "execution_count": null,
   "metadata": {},
   "outputs": [],
   "source": [
    "CHECKPOINT_DIR = './train/'\n",
    "LOG_DIR = './logs/'"
   ]
  },
  {
   "cell_type": "markdown",
   "metadata": {},
   "source": [
    "# Callbacks"
   ]
  },
  {
   "cell_type": "code",
   "execution_count": null,
   "metadata": {},
   "outputs": [],
   "source": [
    "callback = TrainAndLoggingCallback(check_freq=10000, save_path=CHECKPOINT_DIR)"
   ]
  },
  {
   "cell_type": "markdown",
   "metadata": {},
   "source": [
    "# Possible Actions\n",
    "\n",
    "List of possible actions the Selenium agent can take."
   ]
  },
  {
   "cell_type": "code",
   "execution_count": null,
   "metadata": {},
   "outputs": [],
   "source": [
    "actions = [SeleniumSetTextCommand('#user-name', 'standard_user'), SeleniumSetTextCommand(\n",
    "    '#password', 'secret_sauce'), SeleniumClickCommand('#login-button')]\n",
    "\n",
    "# Shuffle actions list 5 times\n",
    "for i in range(0,5):\n",
    "    random.shuffle(actions)"
   ]
  },
  {
   "cell_type": "markdown",
   "metadata": {},
   "source": [
    "# Goal definition\n",
    "\n",
    "Let the agent know that we have reached a desired state"
   ]
  },
  {
   "cell_type": "code",
   "execution_count": null,
   "metadata": {},
   "outputs": [],
   "source": [
    "logged_in_goal = TensiumTextEqualsGoal(\n",
    "    element_selector=\".title\", value_selector='PRODUCTS', config={\n",
    "        'lower': 'true'\n",
    "    })"
   ]
  },
  {
   "cell_type": "markdown",
   "metadata": {},
   "source": [
    "# Environment\n",
    "\n",
    "Create and configure our Tensium environment"
   ]
  },
  {
   "cell_type": "code",
   "execution_count": null,
   "metadata": {},
   "outputs": [],
   "source": [
    "work_dir = os.getcwd()\n",
    "env = TensiumEnv(driver_path='{}\\\\chromedriver.exe'.format(\n",
    "    work_dir), actions=actions, discounts=[discount_error_login], goal=logged_in_goal)"
   ]
  },
  {
   "cell_type": "markdown",
   "metadata": {},
   "source": [
    "# Build Model\n",
    "\n",
    "Build RL model"
   ]
  },
  {
   "cell_type": "code",
   "execution_count": null,
   "metadata": {},
   "outputs": [],
   "source": [
    "model = PPO('MlpPolicy', env, verbose=1, tensorboard_log=LOG_DIR, learning_rate=0.000001,\n",
    "            n_steps=512)\n",
    "model.learn(total_timesteps=100, callback=callback)\n",
    "model.save('thisisatestmodel')"
   ]
  },
  {
   "cell_type": "markdown",
   "metadata": {},
   "source": [
    "# Test it out\n",
    "\n",
    "Test out the model"
   ]
  },
  {
   "cell_type": "code",
   "execution_count": null,
   "metadata": {},
   "outputs": [],
   "source": [
    "model = PPO('MlpPolicy', env, verbose=1, tensorboard_log=LOG_DIR, learning_rate=0.000001,\n",
    "            n_steps=512)\n",
    "model.learn(total_timesteps=100, callback=callback)\n",
    "model.save('thisisatestmodel')"
   ]
  }
 ],
 "metadata": {
  "interpreter": {
   "hash": "f3fb129a5bc614a4ddbaa85ce1fb3fcb14b756c15916d3431c3b79fc78b21b72"
  },
  "kernelspec": {
   "display_name": "Python 3.8.0 64-bit",
   "language": "python",
   "name": "python3"
  },
  "language_info": {
   "codemirror_mode": {
    "name": "ipython",
    "version": 3
   },
   "file_extension": ".py",
   "mimetype": "text/x-python",
   "name": "python",
   "nbconvert_exporter": "python",
   "pygments_lexer": "ipython3",
   "version": "3.8.0"
  },
  "orig_nbformat": 4
 },
 "nbformat": 4,
 "nbformat_minor": 2
}
